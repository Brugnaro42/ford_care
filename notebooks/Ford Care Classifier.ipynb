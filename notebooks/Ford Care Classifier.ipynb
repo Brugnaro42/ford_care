{
 "cells": [
  {
   "cell_type": "markdown",
   "metadata": {},
   "source": [
    "<h1>Ford Care Classifier</h1>\n",
    "\n",
    "Modelo desenvolvido a fim de complementar o guesser, tentando prever o tipo de alarme que vai ocorrer"
   ]
  },
  {
   "cell_type": "code",
   "execution_count": 2,
   "metadata": {
    "ExecuteTime": {
     "end_time": "2020-11-02T18:04:03.231936Z",
     "start_time": "2020-11-02T18:04:03.100382Z"
    }
   },
   "outputs": [],
   "source": [
    "import pandas as pd\n",
    "pd.set_option('display.max_columns',None)\n",
    "\n",
    "from datetime import datetime\n",
    "from sklearn.ensemble import RandomForestClassifier\n",
    "from sklearn.model_selection import train_test_split\n",
    "from sklearn.neighbors import KNeighborsClassifier\n",
    "from sklearn import metrics\n",
    "import pickle\n",
    "\n",
    "def get_train_data():\n",
    "    df = pd.read_csv(\"../data/ford_classifier_fuel.csv\", index_col='Unnamed: 0')\n",
    "    return df\n",
    "\n",
    "def format_guesser_data(df):\n",
    "    \n",
    "    df = df.join(pd.get_dummies(df.MARK))\n",
    "    df = df.join(pd.get_dummies(df.MODEL))\n",
    "    df.drop(['MARK','MODEL','VEHICLE_ID'],inplace=True,axis=1)\n",
    "    df.AUTOMATIC = df.AUTOMATIC.replace({'s':1, 'n':0})\n",
    "    df.DTC_NUMBER = df.DTC_NUMBER.replace({'MIL is OFF1 codes':1, 'MIL is OFF0 codes':0})\n",
    "    df['SHORT TERM FUEL TRIM BANK 1'].fillna(df['SHORT TERM FUEL TRIM BANK 1'].mean(), inplace=True)\n",
    "\n",
    "    for c in df.columns:\n",
    "        if df[c].isna().sum() > 0:\n",
    "            df[c] = df[c].fillna(df[c].mean())\n",
    "    return df\n",
    "\n",
    "def train_classifier(df, model):\n",
    "    x = df[['CAR_YEAR', 'AIR_INTAKE_TEMP',\n",
    "           'ENGINE_COOLANT_TEMP', 'ENGINE_LOAD', 'ENGINE_POWER', 'ENGINE_RPM',\n",
    "           'INTAKE_MANIFOLD_PRESSURE', 'SPEED', 'THROTTLE_POS']]\n",
    "\n",
    "    y = df['ERROR CODE']\n",
    "\n",
    "    x_train, x_test, y_train, y_test = train_test_split(x, y, test_size=0.3)\n",
    "\n",
    "    \n",
    "    return model.fit(x_train, y_train)\n",
    "\n",
    "def export_classifier_pickle(clf):\n",
    "    filename = '../app/ford_care/ford_classifier.sav'\n",
    "    pickle.dump(clf, open(filename, 'wb'))\n",
    "    \n",
    "\n",
    "if __name__ == \"__main__\":\n",
    "    df = get_train_data()\n",
    "    df = format_guesser_data(df)\n",
    "    knn = KNeighborsClassifier(n_neighbors=len(df['ERROR CODE'].unique()))\n",
    "    knn_trained = train_classifier(df, knn)\n",
    "    export_classifier_pickle(knn_trained)"
   ]
  },
  {
   "cell_type": "code",
   "execution_count": 39,
   "metadata": {
    "ExecuteTime": {
     "end_time": "2020-10-30T00:58:49.176626Z",
     "start_time": "2020-10-30T00:58:48.863705Z"
    }
   },
   "outputs": [
    {
     "name": "stdout",
     "output_type": "stream",
     "text": [
      "Ford_Classifier acurácia = 0.9541808083924714\n"
     ]
    }
   ],
   "source": [
    "df['$ERROR CODE'] = knn.predict(df[t.columns])\n",
    "print('Ford_Classifier acurácia = ' + str(metrics.accuracy_score(df['ERROR CODE'], df['$ERROR CODE'])))"
   ]
  }
 ],
 "metadata": {
  "kernelspec": {
   "display_name": "Python 3",
   "language": "python",
   "name": "python3"
  },
  "language_info": {
   "codemirror_mode": {
    "name": "ipython",
    "version": 3
   },
   "file_extension": ".py",
   "mimetype": "text/x-python",
   "name": "python",
   "nbconvert_exporter": "python",
   "pygments_lexer": "ipython3",
   "version": "3.7.4"
  }
 },
 "nbformat": 4,
 "nbformat_minor": 2
}
