{
 "cells": [
  {
   "cell_type": "markdown",
   "metadata": {},
   "source": [
    "<h1>Dados do ODB2</h1>"
   ]
  },
  {
   "cell_type": "markdown",
   "metadata": {},
   "source": [
    "<b>O processo da derivação se dará da seguinte forma:</b>\n",
    "<img src='explica_processo_leitura_alarmes.png'>\n",
    "\n",
    "<ol>\n",
    "    <li><b>df_exp</b> - É o nosso dataset original;</li>\n",
    "    <li><b>decode_trouble_code()</b> - Vai ser nossa função para a derivação, fatiar o código OBDII em linhas diferentes;</li>\n",
    "    <li><b>pega_erro()</b> - Baseado no nosso dicionário em csv, consultaremos erro por erro para entender o erro em questão</li>\n",
    "<ol>"
   ]
  },
  {
   "cell_type": "code",
   "execution_count": 3,
   "metadata": {
    "ExecuteTime": {
     "end_time": "2020-10-28T23:29:15.953614Z",
     "start_time": "2020-10-28T23:29:03.327321Z"
    }
   },
   "outputs": [],
   "source": [
    "import pandas as pd\n",
    "import numpy as np\n",
    "import seaborn as sns\n",
    "from datetime import datetime\n",
    "import plotly.express as xp\n",
    "import plotly.graph_objects as go\n",
    "import matplotlib\n",
    "\n",
    "# configurando pandas\n",
    "pd.set_option('display.max_columns',None)\n",
    "\n",
    "lista_colunas = ['AIR_INTAKE_TEMP', 'AMBIENT_AIR_TEMP', 'AUTOMATIC','BAROMETRIC_PRESSURE', 'CAR_YEAR', \n",
    "                 'DAYS_OF_WEEK', 'DTC_NUMBER','ENGINE_COOLANT_TEMP', 'ENGINE_LOAD', 'ENGINE_POWER', 'ENGINE_RPM',\n",
    "                 'ENGINE_RUNTIME', 'EQUIV_RATIO','FUEL_LEVEL','FUEL_TYPE', 'HOURS', 'INTAKE_MANIFOLD_PRESSURE',\n",
    "                 'LONG TERM FUEL TRIM BANK 2', 'MAF', 'MARK','MIN', 'MODEL', 'MONTHS',\n",
    "                 'SHORT TERM FUEL TRIM BANK 1','SHORT TERM FUEL TRIM BANK 2', 'SPEED','THROTTLE_POS', 'TIME', \n",
    "                 'TIMING_ADVANCE', 'TROUBLE_CODES','VEHICLE_ID', 'YEAR']\n",
    "def log(mes):\n",
    "    print(datetime.now().strftime(\"[%d/%m/%Y %H:%M:%S] - \"), mes)\n",
    "\n",
    "def porcentagem(parte,total):\n",
    "    perc = parte/total*100\n",
    "    return str(perc)+'%'\n",
    "    \n",
    "def dict_odb2():\n",
    "    # Leitura das bases\n",
    "    df_codes = pd.read_csv(\"../data/odb2_codes.csv\", sep=';')\n",
    "    df_codes.drop(index = df_codes[(df_codes[\"problems\"]==\"ISO/SAE Reserved___\") | \n",
    "                                  ((df_codes[\"problems\"]==\"___\"))].index,inplace=True, axis=0)\n",
    "    df_codes = df_codes[[\"code\",\"problems\"]]\n",
    "\n",
    "    return df_codes.problems.str.replace('_','; ').str.replace(' ;','')\n",
    "\n",
    "def get_experimental_dataset():\n",
    "        #Leitura dos dados experimentais\n",
    "    df_exp1 = pd.read_excel(\"../data/exp1_14drivers_14cars_dailyRoutes.xlsx\")\n",
    "    df_exp1.rename({\"TIMESTAMP\":\"TIME\",\"BAROMETRIC_PRESSURE(KPA)\":\"BAROMETRIC_PRESSURE\"},inplace=True,\n",
    "                   axis=\"columns\")\n",
    "\n",
    "    df_exp2 = pd.read_excel(\"../data/exp2_19drivers_1car_1route.xlsx\")\n",
    "    #, 'Short Term Fuel Trim Bank 1'\n",
    "    df_exp2.rename({'Short Term Fuel Trim Bank 2':'SHORT TERM FUEL TRIM BANK 2',\n",
    "                    'Short Term Fuel Trim Bank 1':'SHORT TERM FUEL TRIM BANK 1',\n",
    "                    'Long Term Fuel Trim Bank 2':'LONG TERM FUEL TRIM BANK 2'},inplace=True,axis=\"columns\")\n",
    "\n",
    "    df_exp2.ENGINE_RPM = df_exp2.ENGINE_RPM.str.replace(\"RPM\",\"\").notna().astype(int)\n",
    "\n",
    "    df_exp3 = pd.read_excel(\"../data/exp3_4drivers_1car_1route.xlsx\")\n",
    "    \n",
    "    return pd.concat([df_exp1,df_exp2,df_exp3],sort=True).reset_index()\n",
    "\n",
    "def get_problems(df):\n",
    "    df[\"PROBLEM_1\"] = df['TROUBLE_CODES'].str.slice(0,5)\n",
    "    df[\"PROBLEM_2\"] = df['TROUBLE_CODES'].str.slice(5,10)\n",
    "    df[\"PROBLEM_3\"] = df['TROUBLE_CODES'].str.slice(10,15)\n",
    "    \n",
    "    return df\n",
    "\n",
    "def decode_trouble_code(df_exp):\n",
    "    df_problems_final = pd.DataFrame()\n",
    "    for i in df_exp.index:\n",
    "        tmp2 = df_exp[df_exp.index==i]\n",
    "        if str(tmp2.iloc[0][\"TROUBLE_CODES\"]) != 'nan':\n",
    "            #print(\"Processando carro com problema\")\n",
    "            df_problems = tmp2[['PROBLEM_1','PROBLEM_2','PROBLEM_3']].T.reset_index(drop=True).reset_index()\n",
    "            df_problems.columns = ['index','ERROR CODE']\n",
    "            df_problems = df_problems.merge(pd.concat([tmp2,tmp2,tmp2]).reset_index(drop=True).reset_index(),on='index').drop(columns=['index','PROBLEM_1','PROBLEM_2','PROBLEM_3', 'TROUBLE_CODES'], axis=1)\n",
    "            df_problems_final = pd.concat([df_problems_final, df_problems])\n",
    "            log(porcentagem(i, df_exp.shape[0])+'% Concluído')\n",
    "            os.system('cls')\n",
    "    \n",
    "    df_problems_final.reset_index(drop=True,inplace=True)\n",
    "    return df_problems_final\n",
    "\n",
    "def get_colunas_viaveis(df_exp):\n",
    "    \n",
    "    lista_colunas = []\n",
    "\n",
    "    for c in df_exp.columns:\n",
    "        perc = df_exp[c].isna().sum()/df_exp.shape[0]*100\n",
    "        if perc < 60:\n",
    "            lista_colunas.append(c)\n",
    "            \n",
    "    lista_colunas.append('ERROR CODE')\n",
    "    return lista_colunas\n",
    "\n",
    "def there_is_a_error(code):\n",
    "    if 'P' in code :\n",
    "        return True\n",
    "    else:\n",
    "        return False\n",
    "\n",
    "def export_for_guesser(df_ext):\n",
    "    df_ford_guesser = df_ext.copy()\n",
    "    df_ford_guesser['ALERT'] = df_ford_guesser['ERROR CODE'].apply(there_is_a_error)\n",
    "    df_ford_guesser['ERROR CODE'] = df_ford_guesser['ERROR CODE'].fillna('No Error Code')\n",
    "    df_ford_guesser.reset_index(drop=True).to_csv('../data/ford_guesser_fuel.csv')\n",
    "    \n",
    "    \n",
    "def export_for_classifier(df_ext):\n",
    "    df_ford_classifier = df_ext[~df_ext['ERROR CODE'].isna()].reset_index(drop=True).copy()\n",
    "    df_codes.columns = ['ERROR CODE', 'problems']\n",
    "    df_codes['ERROR CODE'] = df_codes['ERROR CODE'].str[:5]\n",
    "    df_ford_classifier = df_ford_classifier.merge(df_codes, on='ERROR CODE')\n",
    "    df_ford_classifier.reset_index(drop=True).to_csv('../data/ford_classifier_fuel.csv')\n",
    "    \n",
    "def export_for_tear(df_ext):\n",
    "    df_desgaste = df.copy()\n",
    "    df.reset_index(drop=True).to_csv('../data/historico_experimentos.csv')\n",
    "    \n",
    "\n",
    "if __name__ == \"__main__\":\n",
    "    df_codes = dict_odb2()\n",
    "    df_exp = get_experimental_dataset()[lista_colunas]\n",
    "    log('Dados Carregados')\n",
    "    df = get_problems(df_exp)\n",
    "    log('Decodificando códigos')\n",
    "    df = decode_trouble_code(df)\n",
    "    df = df[get_colunas_viaveis(df)]\n",
    "    export_for_guesser(df)\n",
    "    "
   ]
  },
  {
   "cell_type": "markdown",
   "metadata": {},
   "source": [
    "<b>Apêndice A</b>\n",
    "- Basicamente, os compensadores de combustível (fuel trims) são a porcentagem de mudança no combustível ao longo do tempo. Para que o motor funcione corretamente, a relação ar: combustível precisa ficar dentro de uma pequena janela de 14,7: 1. Ele deve permanecer nesta zona em todas as várias condições que um motor encontra todos os dias: partida a frio, marcha lenta em marcha lenta em trânsito intenso, cruzando na rodovia, etc;\n",
    "- short term fuel trim (STFT) refere-se a mudanças imediatas no combustível que ocorrem várias vezes por segundo;\n",
    "- The long term fuel trims (LTFT) são guiados pelo STFT, refere-se a mudanças no STFT, mas em média durante um longo período de tempo. Uma porcentagem de compensação de combustível negativa indica uma retirada de combustível, enquanto uma porcentagem positiva indica uma adição de combustível"
   ]
  },
  {
   "cell_type": "markdown",
   "metadata": {},
   "source": [
    "## Derivar linhas, fazer transposta dos alarmes;"
   ]
  },
  {
   "cell_type": "code",
   "execution_count": 209,
   "metadata": {
    "ExecuteTime": {
     "end_time": "2020-10-28T04:19:10.054499Z",
     "start_time": "2020-10-28T04:19:10.038501Z"
    }
   },
   "outputs": [],
   "source": []
  }
 ],
 "metadata": {
  "kernelspec": {
   "display_name": "Python 3",
   "language": "python",
   "name": "python3"
  },
  "language_info": {
   "codemirror_mode": {
    "name": "ipython",
    "version": 3
   },
   "file_extension": ".py",
   "mimetype": "text/x-python",
   "name": "python",
   "nbconvert_exporter": "python",
   "pygments_lexer": "ipython3",
   "version": "3.7.4"
  }
 },
 "nbformat": 4,
 "nbformat_minor": 4
}
