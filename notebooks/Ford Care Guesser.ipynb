{
 "cells": [
  {
   "cell_type": "markdown",
   "metadata": {},
   "source": [
    "<h1>Ford Care Guesser</h1>\n",
    "\n",
    "Modelo desenvolvido a fim de ver se os componentes do trem de força correm risco ou não"
   ]
  },
  {
   "cell_type": "markdown",
   "metadata": {},
   "source": [
    "## Data Import"
   ]
  },
  {
   "cell_type": "markdown",
   "metadata": {},
   "source": [
    "## Model Training"
   ]
  },
  {
   "cell_type": "code",
   "execution_count": null,
   "metadata": {
    "ExecuteTime": {
     "end_time": "2020-10-28T23:24:03.878539Z",
     "start_time": "2020-10-28T23:23:42.435334Z"
    }
   },
   "outputs": [],
   "source": [
    "import pandas as pd\n",
    "pd.set_option('display.max_columns',None)\n",
    "\n",
    "from datetime import datetime\n",
    "from sklearn.ensemble import RandomForestClassifier\n",
    "from sklearn.model_selection import train_test_split\n",
    "from sklearn import metrics\n",
    "import pickle"
   ]
  },
  {
   "cell_type": "code",
   "execution_count": null,
   "metadata": {
    "ExecuteTime": {
     "end_time": "2020-10-28T23:24:03.878539Z",
     "start_time": "2020-10-28T23:23:42.435334Z"
    }
   },
   "outputs": [],
   "source": [
    "df = pd.read_csv(\"../data/ford_guesser_fuel.csv\", index_col='Unnamed: 0')"
   ]
  },
  {
   "cell_type": "code",
   "execution_count": 1,
   "metadata": {
    "ExecuteTime": {
     "end_time": "2020-10-28T23:24:03.878539Z",
     "start_time": "2020-10-28T23:23:42.435334Z"
    }
   },
   "outputs": [],
   "source": []
  },
  {
   "cell_type": "code",
   "execution_count": 8,
   "metadata": {
    "ExecuteTime": {
     "end_time": "2020-10-28T23:24:40.924534Z",
     "start_time": "2020-10-28T23:24:40.171433Z"
    }
   },
   "outputs": [],
   "source": [
    "y_pred = clf.predict(x_test)"
   ]
  },
  {
   "cell_type": "code",
   "execution_count": 9,
   "metadata": {
    "ExecuteTime": {
     "end_time": "2020-10-28T23:24:40.971507Z",
     "start_time": "2020-10-28T23:24:40.928532Z"
    }
   },
   "outputs": [
    {
     "name": "stdout",
     "output_type": "stream",
     "text": [
      "Acurácia:  0.705904161646121\n"
     ]
    }
   ],
   "source": [
    "print(\"Acurácia: \",metrics.accuracy_score(y_test, y_pred))"
   ]
  },
  {
   "cell_type": "code",
   "execution_count": 10,
   "metadata": {
    "ExecuteTime": {
     "end_time": "2020-10-28T23:24:47.456095Z",
     "start_time": "2020-10-28T23:24:46.879717Z"
    }
   },
   "outputs": [],
   "source": [
    "df['$ALERT'] = clf.predict(x)"
   ]
  },
  {
   "cell_type": "code",
   "execution_count": 11,
   "metadata": {
    "ExecuteTime": {
     "end_time": "2020-10-28T23:24:48.625372Z",
     "start_time": "2020-10-28T23:24:48.600392Z"
    }
   },
   "outputs": [
    {
     "data": {
      "text/plain": [
       "False    32589\n",
       "True      3372\n",
       "Name: $ALERT, dtype: int64"
      ]
     },
     "execution_count": 11,
     "metadata": {},
     "output_type": "execute_result"
    }
   ],
   "source": [
    "df['$ALERT'].value_counts()"
   ]
  },
  {
   "cell_type": "code",
   "execution_count": 13,
   "metadata": {
    "ExecuteTime": {
     "end_time": "2020-10-28T23:27:00.905392Z",
     "start_time": "2020-10-28T23:27:00.750486Z"
    }
   },
   "outputs": [],
   "source": [
    "def get_train_data():\n",
    "    df = pd.read_csv(\"../data/ford_guesser_fuel.csv\", index_col='Unnamed: 0')\n",
    "    return df\n",
    "\n",
    "def format_guesser_data(df):\n",
    "    \n",
    "    df = df.join(pd.get_dummies(df.MARK))\n",
    "    df = df.join(pd.get_dummies(df.MODEL))\n",
    "    df.drop(['MARK','MODEL','VEHICLE_ID','ERROR CODE'],inplace=True,axis=1)\n",
    "    df.AUTOMATIC = df.AUTOMATIC.replace({'s':1, 'n':0})\n",
    "    df.DTC_NUMBER = df.DTC_NUMBER.replace({'MIL is OFF1 codes':1, 'MIL is OFF0 codes':0})\n",
    "    df['SHORT TERM FUEL TRIM BANK 1'].fillna(df['SHORT TERM FUEL TRIM BANK 1'].mean(), inplace=True)\n",
    "\n",
    "    for c in df.columns:\n",
    "        if df[c].isna().sum() > 0:\n",
    "            df[c] = df[c].fillna(df[c].mean())\n",
    "    return df\n",
    "\n",
    "def train_guesser(df, model):\n",
    "    x = df[['AIR_INTAKE_TEMP', 'CAR_YEAR', 'DAYS_OF_WEEK',\n",
    "           'DTC_NUMBER', 'ENGINE_COOLANT_TEMP', 'ENGINE_LOAD', 'ENGINE_POWER',\n",
    "           'ENGINE_RPM', 'HOURS', 'INTAKE_MANIFOLD_PRESSURE','MIN',\n",
    "            'MONTHS', 'SHORT TERM FUEL TRIM BANK 1', 'SPEED',\n",
    "           'THROTTLE_POS', 'TIME', 'TIMING_ADVANCE', 'YEAR']]\n",
    "\n",
    "    y = df['ALERT']\n",
    "\n",
    "    x_train, x_test, y_train, y_test = train_test_split(x, y, test_size=0.3)\n",
    "\n",
    "    \n",
    "    return model.fit(x_train, y_train)\n",
    "\n",
    "def export_guesser_pickle(clf):\n",
    "    filename = '../app/ford_care/ford_guesser.sav'\n",
    "    pickle.dump(clf, open(filename, 'wb'))\n",
    "    \n",
    "if __name__ == \"__main__\":\n",
    "    df = get_train_data()\n",
    "    df = format_guesser_data(df)\n",
    "    clf = RandomForestClassifier(n_estimators=100)\n",
    "    clf_trained = train_guesser(df, clf)\n",
    "    "
   ]
  },
  {
   "cell_type": "markdown",
   "metadata": {
    "heading_collapsed": true
   },
   "source": [
    "## Model Metrics"
   ]
  },
  {
   "cell_type": "markdown",
   "metadata": {},
   "source": [
    "## Export model"
   ]
  }
 ],
 "metadata": {
  "kernelspec": {
   "display_name": "Python 3",
   "language": "python",
   "name": "python3"
  },
  "language_info": {
   "codemirror_mode": {
    "name": "ipython",
    "version": 3
   },
   "file_extension": ".py",
   "mimetype": "text/x-python",
   "name": "python",
   "nbconvert_exporter": "python",
   "pygments_lexer": "ipython3",
   "version": "3.7.4"
  }
 },
 "nbformat": 4,
 "nbformat_minor": 2
}
