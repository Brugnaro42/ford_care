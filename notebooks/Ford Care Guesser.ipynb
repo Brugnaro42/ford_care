{
 "cells": [
  {
   "cell_type": "markdown",
   "metadata": {},
   "source": [
    "<h1>Ford Care Guesser</h1>\n",
    "\n",
    "Modelo desenvolvido a fim de ver se os componentes do trem de força correm risco ou não"
   ]
  },
  {
   "cell_type": "code",
   "execution_count": 9,
   "metadata": {
    "ExecuteTime": {
     "end_time": "2020-11-02T17:29:39.099172Z",
     "start_time": "2020-11-02T17:29:38.228278Z"
    }
   },
   "outputs": [
    {
     "name": "stdout",
     "output_type": "stream",
     "text": [
      "0.8005375845768838\n"
     ]
    }
   ],
   "source": [
    "import pandas as pd\n",
    "pd.set_option('display.max_columns',None)\n",
    "\n",
    "from datetime import datetime\n",
    "from sklearn.neighbors import KNeighborsClassifier\n",
    "from sklearn.model_selection import train_test_split\n",
    "from sklearn import metrics\n",
    "import pickle\n",
    "\n",
    "def get_train_data():\n",
    "    df = pd.read_csv(\"../data/ford_guesser_fuel.csv\", index_col='Unnamed: 0')\n",
    "    return df\n",
    "\n",
    "def format_guesser_data(df):\n",
    "    \n",
    "    df = df.join(pd.get_dummies(df.MARK))\n",
    "    df = df.join(pd.get_dummies(df.MODEL))\n",
    "    df.drop(['MARK','MODEL','VEHICLE_ID','ERROR CODE'],inplace=True,axis=1)\n",
    "    df.AUTOMATIC = df.AUTOMATIC.replace({'s':1, 'n':0})\n",
    "    df.DTC_NUMBER = df.DTC_NUMBER.replace({'MIL is OFF1 codes':1, 'MIL is OFF0 codes':0})\n",
    "    df['SHORT TERM FUEL TRIM BANK 1'].fillna(df['SHORT TERM FUEL TRIM BANK 1'].mean(), inplace=True)\n",
    "\n",
    "    for c in df.columns:\n",
    "        if df[c].isna().sum() > 0:\n",
    "            df[c] = df[c].fillna(df[c].mean())\n",
    "    return df\n",
    "\n",
    "def train_guesser(df, model):\n",
    "    x = df[['CAR_YEAR', 'AIR_INTAKE_TEMP',\n",
    "           'ENGINE_COOLANT_TEMP', 'ENGINE_LOAD', 'ENGINE_POWER', 'ENGINE_RPM',\n",
    "           'INTAKE_MANIFOLD_PRESSURE', 'SPEED', 'THROTTLE_POS']]\n",
    "    \n",
    "\n",
    "    y = df['ALERT']\n",
    "    \n",
    "    x_train, x_test, y_train, y_test = train_test_split(x, y, test_size=0.3)\n",
    "    \n",
    "    model.fit(x_train, y_train)\n",
    "    \n",
    "    print(metrics.accuracy_score(model.predict(x_test),y_test))\n",
    "                           \n",
    "    return model.fit(x_train, y_train)\n",
    "\n",
    "def export_guesser_pickle(knn):\n",
    "    filename = '../app/ford_care/ford_guesser.sav'\n",
    "    pickle.dump(knn, open(filename, 'wb'))\n",
    "    \n",
    "if __name__ == \"__main__\":\n",
    "    df = get_train_data()\n",
    "    df = format_guesser_data(df)\n",
    "    knn = KNeighborsClassifier(n_neighbors=2)\n",
    "    knn_trained = train_guesser(df, knn)\n",
    "    export_guesser_pickle(knn_trained)"
   ]
  },
  {
   "cell_type": "code",
   "execution_count": null,
   "metadata": {},
   "outputs": [],
   "source": [
    "metrics.accuracy_score( knn_trained."
   ]
  }
 ],
 "metadata": {
  "kernelspec": {
   "display_name": "Python 3",
   "language": "python",
   "name": "python3"
  },
  "language_info": {
   "codemirror_mode": {
    "name": "ipython",
    "version": 3
   },
   "file_extension": ".py",
   "mimetype": "text/x-python",
   "name": "python",
   "nbconvert_exporter": "python",
   "pygments_lexer": "ipython3",
   "version": "3.7.4"
  }
 },
 "nbformat": 4,
 "nbformat_minor": 2
}
